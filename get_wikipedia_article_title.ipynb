{
  "nbformat": 4,
  "nbformat_minor": 0,
  "metadata": {
    "colab": {
      "provenance": [],
      "authorship_tag": "ABX9TyP6hxGsMFQVrjwdx9tfKW5t",
      "include_colab_link": true
    },
    "kernelspec": {
      "name": "python3",
      "display_name": "Python 3"
    },
    "language_info": {
      "name": "python"
    }
  },
  "cells": [
    {
      "cell_type": "markdown",
      "metadata": {
        "id": "view-in-github",
        "colab_type": "text"
      },
      "source": [
        "<a href=\"https://colab.research.google.com/github/shantanu2383/Data-Science-Tools/blob/main/get_wikipedia_article_title.ipynb\" target=\"_parent\"><img src=\"https://colab.research.google.com/assets/colab-badge.svg\" alt=\"Open In Colab\"/></a>"
      ]
    },
    {
      "cell_type": "code",
      "execution_count": null,
      "metadata": {
        "id": "p4y2JZCtACV8"
      },
      "outputs": [],
      "source": [
        "import requests\n",
        "\n",
        "def get_wikipedia_article_title(query, language='en'):\n",
        "    url = f\"https://{language}.wikipedia.org/w/api.php\"\n",
        "    params = {\n",
        "        \"action\": \"query\",\n",
        "        \"list\": \"search\",\n",
        "        \"format\": \"json\",\n",
        "        \"srsearch\": query,\n",
        "        \"srlimit\": 1,\n",
        "    }\n",
        "    response = requests.get(url, params=params)\n",
        "    if response.status_code == 200:\n",
        "        data = response.json()\n",
        "        if data['query']['search']:\n",
        "            return data['query']['search'][0]['title']\n",
        "        else:\n",
        "            print(\"No matching Wikipedia article found.\")\n",
        "            return None\n",
        "    else:\n",
        "        print(f\"Error {response.status_code}: Failed to fetch Wikipedia article title.\")\n",
        "        return None\n",
        "\n",
        "company_name = \"E V I INDUSTRIES INC\"\n",
        "article_title = get_wikipedia_article_title(company_name)\n",
        "\n",
        "if article_title:\n",
        "    print(f\"Wikipedia article title for {company_name}: {article_title}\")\n"
      ]
    }
  ]
}